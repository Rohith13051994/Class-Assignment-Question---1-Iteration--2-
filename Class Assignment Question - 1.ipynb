{
 "cells": [
  {
   "cell_type": "code",
   "execution_count": 1,
   "id": "7e5ac48b-fab7-47ca-b12f-581b530a1e29",
   "metadata": {},
   "outputs": [],
   "source": [
    "# Create a class and function, and list out the items in the list"
   ]
  },
  {
   "cell_type": "code",
   "execution_count": 41,
   "id": "cec63ed2-fe4d-4bc7-92b8-f3c3b77f754a",
   "metadata": {},
   "outputs": [],
   "source": [
    "class SubfieldsInAI():\n",
    "    def Subfields():\n",
    "        AI_list=[\"Machine Learning\",\"Neural Networks\",\"Vision\",\"Robotics\",\"Speech Processing\",\"Natural Language Processing\"]\n",
    "        print(\"Sub-fields in AI are:\")  \n",
    "        for list in AI_list:\n",
    "            print(list)"
   ]
  },
  {
   "cell_type": "code",
   "execution_count": 43,
   "id": "bb07028d-1107-4379-af05-956b57f32854",
   "metadata": {},
   "outputs": [
    {
     "name": "stdout",
     "output_type": "stream",
     "text": [
      "Sub-fields in AI are:\n",
      "Machine Learning\n",
      "Neural Networks\n",
      "Vision\n",
      "Robotics\n",
      "Speech Processing\n",
      "Natural Language Processing\n"
     ]
    }
   ],
   "source": [
    "SubfieldsInAI.Subfields()"
   ]
  },
  {
   "cell_type": "code",
   "execution_count": null,
   "id": "65575bf8-ed41-4bbb-9ac8-c7132b5f38d5",
   "metadata": {},
   "outputs": [],
   "source": [
    "# Create a function that checks whether the given number is Odd or Even"
   ]
  },
  {
   "cell_type": "code",
   "execution_count": null,
   "id": "9000b498-d47a-4acb-8d21-401ddf704003",
   "metadata": {},
   "outputs": [],
   "source": [
    "class OddEven():\n",
    "    def OddEven():\n",
    "        Num = int(input(\"Enter a number: \"))\n",
    "        if((Num%2)==0):\n",
    "            print(Num,\" is Even number\")\n",
    "        else:\n",
    "            print(Num,\" is Odd number\")"
   ]
  },
  {
   "cell_type": "code",
   "execution_count": 45,
   "id": "bfb5c69c-9390-4915-b5ff-7c9f86071f3d",
   "metadata": {},
   "outputs": [
    {
     "name": "stdin",
     "output_type": "stream",
     "text": [
      "Enter a number:  52452\n"
     ]
    },
    {
     "name": "stdout",
     "output_type": "stream",
     "text": [
      "52452  is Even number\n"
     ]
    }
   ],
   "source": [
    "OddEven.OddEven()"
   ]
  },
  {
   "cell_type": "code",
   "execution_count": 23,
   "id": "17ecf716-4a00-49f3-a962-9aeb8bd15203",
   "metadata": {},
   "outputs": [],
   "source": [
    "# Create a function that tells elegibility of marriage for male and female according to their age limit like 21 for male and 18 for female"
   ]
  },
  {
   "cell_type": "code",
   "execution_count": null,
   "id": "0fed18a5-1144-4c3c-bdb3-9e55ba008fc2",
   "metadata": {},
   "outputs": [],
   "source": [
    "class ElegiblityForMarriage():\n",
    "    def Elegible():\n",
    "        sex=input(\"Your Gender:\")\n",
    "        age=int(input(\"Your Age:\"))\n",
    "\n",
    "        if(sex==\"Female\"):\n",
    "            if(age>=18):\n",
    "                print(\"Eligible\")\n",
    "            else:\n",
    "                print(\"Not Eligible\")\n",
    "\n",
    "        elif(sex==\"Male\"):\n",
    "            if(age>=21):\n",
    "                print(\"Eligible\")\n",
    "            else:\n",
    "                print(\"Not Eligible\")"
   ]
  },
  {
   "cell_type": "code",
   "execution_count": 25,
   "id": "903e79d5-4484-4236-a9a2-fffc9c9aeb3e",
   "metadata": {},
   "outputs": [
    {
     "name": "stdin",
     "output_type": "stream",
     "text": [
      "Your Gender: Male\n",
      "Your Age: 20\n"
     ]
    },
    {
     "name": "stdout",
     "output_type": "stream",
     "text": [
      "Not Eligible\n"
     ]
    }
   ],
   "source": [
    "ElegiblityForMarriage.Elegible()"
   ]
  },
  {
   "cell_type": "code",
   "execution_count": 27,
   "id": "2047c969-ff49-4cbb-94f9-bf354dcb8b99",
   "metadata": {},
   "outputs": [],
   "source": [
    "# calculate the percentage of your 10th mark"
   ]
  },
  {
   "cell_type": "code",
   "execution_count": 77,
   "id": "11a893cc-2d29-4ea8-a671-2cb2bf8db144",
   "metadata": {},
   "outputs": [],
   "source": [
    "from decimal import Decimal\n",
    "\n",
    "class FindPercent:\n",
    "    def percentage(self):\n",
    "        Sub1= int(input(\"Subject1:\"))\n",
    "        Sub2= int(input(\"Subject2:\"))\n",
    "        Sub3= int(input(\"Subject3:\"))\n",
    "        Sub4= int(input(\"Subject4:\"))\n",
    "        Sub5= int(input(\"Subject5:\"))\n",
    "\n",
    "        total = Sub1 + Sub2 + Sub3 + Sub4 + Sub5\n",
    "        print(\"Total :\", total)\n",
    "\n",
    "        percentage = total / 5\n",
    "        print(\"Percentage : \", percentage)"
   ]
  },
  {
   "cell_type": "code",
   "execution_count": 80,
   "id": "c9bc5f12-fc42-4257-aa29-71522eafe331",
   "metadata": {},
   "outputs": [
    {
     "name": "stdin",
     "output_type": "stream",
     "text": [
      "Subject1: 98\n",
      "Subject2: 87\n",
      "Subject3: 95\n",
      "Subject4: 95\n",
      "Subject5: 93\n"
     ]
    },
    {
     "name": "stdout",
     "output_type": "stream",
     "text": [
      "Total : 468\n",
      "Percentage :  93.6\n"
     ]
    }
   ],
   "source": [
    "finder.percentage()"
   ]
  },
  {
   "cell_type": "code",
   "execution_count": 69,
   "id": "38acf5e2-5a23-4661-9d80-faf1c89c7219",
   "metadata": {},
   "outputs": [],
   "source": [
    "#print area and perimeter of triangle using class and functions"
   ]
  },
  {
   "cell_type": "code",
   "execution_count": 57,
   "id": "57b9f948-d68e-4712-88b9-ac46443340ad",
   "metadata": {},
   "outputs": [],
   "source": [
    "class Triangle:\n",
    "    def triangle():\n",
    "        Height = int(input(\"Height: \"))\n",
    "        Breadth = int(input(\"Breadth: \"))\n",
    "        Area_of_Tri = (Height * Breadth) / 2\n",
    "        print(\"Area formula: (Height * Breadth) / 2\")\n",
    "        print(\"Area of Triangle: \", Area_of_Tri)\n",
    "\n",
    "        Height1 = int(input(\"Height1: \"))\n",
    "        Height2 = int(input(\"Height2: \"))\n",
    "        Breadth = int(input(\"Breadth: \"))\n",
    "        Perimeter_of_Tri = Height1 + Height2 + Breadth\n",
    "        print(\"Perimeter formula: Height1 + Height2 + Breadth\")\n",
    "        print(\"Perimeter of Triangle: \", Perimeter_of_Tri)"
   ]
  },
  {
   "cell_type": "code",
   "execution_count": 59,
   "id": "7f3fc6ed-bde7-4bce-821f-6d00fe459899",
   "metadata": {},
   "outputs": [
    {
     "name": "stdin",
     "output_type": "stream",
     "text": [
      "Height:  32\n",
      "Breadth:  34\n"
     ]
    },
    {
     "name": "stdout",
     "output_type": "stream",
     "text": [
      "Area formula: (Height * Breadth) / 2\n",
      "Area of Triangle:  544.0\n"
     ]
    },
    {
     "name": "stdin",
     "output_type": "stream",
     "text": [
      "Height1:  2\n",
      "Height2:  4\n",
      "Breadth:  4\n"
     ]
    },
    {
     "name": "stdout",
     "output_type": "stream",
     "text": [
      "Perimeter formula: Height1 + Height2 + Breadth\n",
      "Perimeter of Triangle:  10\n"
     ]
    }
   ],
   "source": [
    "Triangle.triangle()"
   ]
  },
  {
   "cell_type": "code",
   "execution_count": null,
   "id": "835405c0-129a-4e53-af58-6af9153c97a5",
   "metadata": {},
   "outputs": [],
   "source": []
  }
 ],
 "metadata": {
  "kernelspec": {
   "display_name": "Python 3 (ipykernel)",
   "language": "python",
   "name": "python3"
  },
  "language_info": {
   "codemirror_mode": {
    "name": "ipython",
    "version": 3
   },
   "file_extension": ".py",
   "mimetype": "text/x-python",
   "name": "python",
   "nbconvert_exporter": "python",
   "pygments_lexer": "ipython3",
   "version": "3.11.7"
  }
 },
 "nbformat": 4,
 "nbformat_minor": 5
}
